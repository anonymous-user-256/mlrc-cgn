{
 "cells": [
  {
   "cell_type": "code",
   "execution_count": 1,
   "id": "b94a8939-5916-4f45-85ff-f83cca089cf4",
   "metadata": {},
   "outputs": [],
   "source": [
    "%load_ext autoreload\n",
    "%autoreload 2"
   ]
  },
  {
   "cell_type": "code",
   "execution_count": 12,
   "id": "b09858aa-768d-4f7e-9745-5526f1c7da55",
   "metadata": {},
   "outputs": [],
   "source": [
    "import re\n",
    "from os.path import join, basename, dirname\n",
    "from glob import glob\n",
    "import numpy as np\n",
    "import pandas as pd\n",
    "import matplotlib.pyplot as plt\n",
    "import seaborn as sns\n",
    "from natsort import natsorted\n",
    "import torch\n",
    "\n",
    "from torchvision.io import read_image"
   ]
  },
  {
   "cell_type": "code",
   "execution_count": 4,
   "id": "2bbf18e6-4b1d-42f2-8165-ae190153589f",
   "metadata": {},
   "outputs": [],
   "source": [
    "from experiment_utils import set_env, REPO_PATH, seed_everything\n",
    "set_env()"
   ]
  },
  {
   "cell_type": "code",
   "execution_count": 5,
   "id": "c1b58e2d-b8c3-4e7f-bf53-d000e87703a9",
   "metadata": {},
   "outputs": [],
   "source": [
    "plt.rcParams.update({\n",
    "    \"text.usetex\": True,\n",
    "    \"font.family\": \"serif\",\n",
    "    \"font.serif\": [\"Computer Modern Roman\"],\n",
    "})"
   ]
  },
  {
   "cell_type": "code",
   "execution_count": 77,
   "id": "b42c9097-50a6-4905-aba1-aae851ce42ed",
   "metadata": {},
   "outputs": [],
   "source": [
    "paths = glob(join(REPO_PATH, \"experiments/results\", \"*_gradcam_iou.pth\"))\n",
    "\n",
    "df = pd.DataFrame(None, columns=[\"dataset\", \"model\", \"iou\"], index=list(range(6)))\n",
    "# flat_df = pd.DataFrame(None, columns=[\"dataset\", \"model\", \"iou\"])\n",
    "flat_df = []\n",
    "\n",
    "for i, path in enumerate(paths):\n",
    "    output = torch.load(path)\n",
    "    all_outputs = [output[i] for i in output if i != \"overall\"]\n",
    "    elements = basename(path).split(\".pth\")[0].split(\"_\")\n",
    "    \n",
    "    idx = elements.index(\"MNIST\")\n",
    "    dataset = \" \".join(elements[:idx + 1])\n",
    "    model_type = \"Original\" if not \"counterfactual\" in elements else \"Counterfactual\"\n",
    "    iou = output[\"overall\"]\n",
    "    df.at[i, \"dataset\"] = dataset\n",
    "    df.at[i, \"model\"] = model_type\n",
    "    df.at[i, \"iou\"] = iou\n",
    "    \n",
    "    flat_df.append([dataset, model_type, iou])\n",
    "\n",
    "flat_df = pd.DataFrame(flat_df, columns=[\"dataset\", \"model\", \"iou\"])"
   ]
  },
  {
   "cell_type": "code",
   "execution_count": 78,
   "id": "02dd255d-f6d7-43d9-9093-0f043e2d28bb",
   "metadata": {},
   "outputs": [],
   "source": [
    "flat_df = df.melt(id_vars=[\"iou\", \"model\"])"
   ]
  },
  {
   "cell_type": "code",
   "execution_count": 79,
   "id": "7157d70e-6ec1-485c-8200-fe419c8482cb",
   "metadata": {},
   "outputs": [
    {
     "data": {
      "text/html": [
       "<div>\n",
       "<style scoped>\n",
       "    .dataframe tbody tr th:only-of-type {\n",
       "        vertical-align: middle;\n",
       "    }\n",
       "\n",
       "    .dataframe tbody tr th {\n",
       "        vertical-align: top;\n",
       "    }\n",
       "\n",
       "    .dataframe thead th {\n",
       "        text-align: right;\n",
       "    }\n",
       "</style>\n",
       "<table border=\"1\" class=\"dataframe\">\n",
       "  <thead>\n",
       "    <tr style=\"text-align: right;\">\n",
       "      <th></th>\n",
       "      <th>dataset</th>\n",
       "      <th>model</th>\n",
       "      <th>iou</th>\n",
       "    </tr>\n",
       "  </thead>\n",
       "  <tbody>\n",
       "    <tr>\n",
       "      <th>0</th>\n",
       "      <td>colored MNIST</td>\n",
       "      <td>Original</td>\n",
       "      <td>0.436745</td>\n",
       "    </tr>\n",
       "    <tr>\n",
       "      <th>1</th>\n",
       "      <td>colored MNIST</td>\n",
       "      <td>Counterfactual</td>\n",
       "      <td>0.454287</td>\n",
       "    </tr>\n",
       "    <tr>\n",
       "      <th>2</th>\n",
       "      <td>double colored MNIST</td>\n",
       "      <td>Original</td>\n",
       "      <td>0.373542</td>\n",
       "    </tr>\n",
       "    <tr>\n",
       "      <th>3</th>\n",
       "      <td>wildlife MNIST</td>\n",
       "      <td>Original</td>\n",
       "      <td>0.388386</td>\n",
       "    </tr>\n",
       "    <tr>\n",
       "      <th>4</th>\n",
       "      <td>wildlife MNIST</td>\n",
       "      <td>Counterfactual</td>\n",
       "      <td>0.441846</td>\n",
       "    </tr>\n",
       "    <tr>\n",
       "      <th>5</th>\n",
       "      <td>double colored MNIST</td>\n",
       "      <td>Counterfactual</td>\n",
       "      <td>0.426295</td>\n",
       "    </tr>\n",
       "  </tbody>\n",
       "</table>\n",
       "</div>"
      ],
      "text/plain": [
       "                dataset           model       iou\n",
       "0         colored MNIST        Original  0.436745\n",
       "1         colored MNIST  Counterfactual  0.454287\n",
       "2  double colored MNIST        Original  0.373542\n",
       "3        wildlife MNIST        Original  0.388386\n",
       "4        wildlife MNIST  Counterfactual  0.441846\n",
       "5  double colored MNIST  Counterfactual  0.426295"
      ]
     },
     "execution_count": 79,
     "metadata": {},
     "output_type": "execute_result"
    }
   ],
   "source": [
    "df"
   ]
  },
  {
   "cell_type": "code",
   "execution_count": 80,
   "id": "99f3b2b4-0e3f-4689-b38b-c42252d9f0cb",
   "metadata": {},
   "outputs": [
    {
     "data": {
      "text/html": [
       "<div>\n",
       "<style scoped>\n",
       "    .dataframe tbody tr th:only-of-type {\n",
       "        vertical-align: middle;\n",
       "    }\n",
       "\n",
       "    .dataframe tbody tr th {\n",
       "        vertical-align: top;\n",
       "    }\n",
       "\n",
       "    .dataframe thead th {\n",
       "        text-align: right;\n",
       "    }\n",
       "</style>\n",
       "<table border=\"1\" class=\"dataframe\">\n",
       "  <thead>\n",
       "    <tr style=\"text-align: right;\">\n",
       "      <th></th>\n",
       "      <th>iou</th>\n",
       "      <th>model</th>\n",
       "      <th>variable</th>\n",
       "      <th>value</th>\n",
       "    </tr>\n",
       "  </thead>\n",
       "  <tbody>\n",
       "    <tr>\n",
       "      <th>0</th>\n",
       "      <td>0.436745</td>\n",
       "      <td>Original</td>\n",
       "      <td>dataset</td>\n",
       "      <td>colored MNIST</td>\n",
       "    </tr>\n",
       "    <tr>\n",
       "      <th>1</th>\n",
       "      <td>0.454287</td>\n",
       "      <td>Counterfactual</td>\n",
       "      <td>dataset</td>\n",
       "      <td>colored MNIST</td>\n",
       "    </tr>\n",
       "    <tr>\n",
       "      <th>2</th>\n",
       "      <td>0.373542</td>\n",
       "      <td>Original</td>\n",
       "      <td>dataset</td>\n",
       "      <td>double colored MNIST</td>\n",
       "    </tr>\n",
       "    <tr>\n",
       "      <th>3</th>\n",
       "      <td>0.388386</td>\n",
       "      <td>Original</td>\n",
       "      <td>dataset</td>\n",
       "      <td>wildlife MNIST</td>\n",
       "    </tr>\n",
       "    <tr>\n",
       "      <th>4</th>\n",
       "      <td>0.441846</td>\n",
       "      <td>Counterfactual</td>\n",
       "      <td>dataset</td>\n",
       "      <td>wildlife MNIST</td>\n",
       "    </tr>\n",
       "    <tr>\n",
       "      <th>5</th>\n",
       "      <td>0.426295</td>\n",
       "      <td>Counterfactual</td>\n",
       "      <td>dataset</td>\n",
       "      <td>double colored MNIST</td>\n",
       "    </tr>\n",
       "  </tbody>\n",
       "</table>\n",
       "</div>"
      ],
      "text/plain": [
       "        iou           model variable                 value\n",
       "0  0.436745        Original  dataset         colored MNIST\n",
       "1  0.454287  Counterfactual  dataset         colored MNIST\n",
       "2  0.373542        Original  dataset  double colored MNIST\n",
       "3  0.388386        Original  dataset        wildlife MNIST\n",
       "4  0.441846  Counterfactual  dataset        wildlife MNIST\n",
       "5  0.426295  Counterfactual  dataset  double colored MNIST"
      ]
     },
     "execution_count": 80,
     "metadata": {},
     "output_type": "execute_result"
    }
   ],
   "source": [
    "flat_df"
   ]
  },
  {
   "cell_type": "code",
   "execution_count": 81,
   "id": "84e8ecae-bf98-4827-8b3d-515313e7f7ea",
   "metadata": {},
   "outputs": [
    {
     "data": {
      "text/html": [
       "<div>\n",
       "<style scoped>\n",
       "    .dataframe tbody tr th:only-of-type {\n",
       "        vertical-align: middle;\n",
       "    }\n",
       "\n",
       "    .dataframe tbody tr th {\n",
       "        vertical-align: top;\n",
       "    }\n",
       "\n",
       "    .dataframe thead th {\n",
       "        text-align: right;\n",
       "    }\n",
       "</style>\n",
       "<table border=\"1\" class=\"dataframe\">\n",
       "  <thead>\n",
       "    <tr style=\"text-align: right;\">\n",
       "      <th></th>\n",
       "      <th>dataset</th>\n",
       "      <th>model</th>\n",
       "      <th>iou</th>\n",
       "    </tr>\n",
       "  </thead>\n",
       "  <tbody>\n",
       "    <tr>\n",
       "      <th>0</th>\n",
       "      <td>colored MNIST</td>\n",
       "      <td>Original</td>\n",
       "      <td>0.436745</td>\n",
       "    </tr>\n",
       "    <tr>\n",
       "      <th>1</th>\n",
       "      <td>colored MNIST</td>\n",
       "      <td>Counterfactual</td>\n",
       "      <td>0.454287</td>\n",
       "    </tr>\n",
       "    <tr>\n",
       "      <th>2</th>\n",
       "      <td>double colored MNIST</td>\n",
       "      <td>Original</td>\n",
       "      <td>0.373542</td>\n",
       "    </tr>\n",
       "    <tr>\n",
       "      <th>3</th>\n",
       "      <td>wildlife MNIST</td>\n",
       "      <td>Original</td>\n",
       "      <td>0.388386</td>\n",
       "    </tr>\n",
       "    <tr>\n",
       "      <th>4</th>\n",
       "      <td>wildlife MNIST</td>\n",
       "      <td>Counterfactual</td>\n",
       "      <td>0.441846</td>\n",
       "    </tr>\n",
       "    <tr>\n",
       "      <th>5</th>\n",
       "      <td>double colored MNIST</td>\n",
       "      <td>Counterfactual</td>\n",
       "      <td>0.426295</td>\n",
       "    </tr>\n",
       "  </tbody>\n",
       "</table>\n",
       "</div>"
      ],
      "text/plain": [
       "                dataset           model       iou\n",
       "0         colored MNIST        Original  0.436745\n",
       "1         colored MNIST  Counterfactual  0.454287\n",
       "2  double colored MNIST        Original  0.373542\n",
       "3        wildlife MNIST        Original  0.388386\n",
       "4        wildlife MNIST  Counterfactual  0.441846\n",
       "5  double colored MNIST  Counterfactual  0.426295"
      ]
     },
     "execution_count": 81,
     "metadata": {},
     "output_type": "execute_result"
    }
   ],
   "source": [
    "df"
   ]
  },
  {
   "cell_type": "code",
   "execution_count": 98,
   "id": "935954ee-f82f-468e-99ea-15553cba967a",
   "metadata": {},
   "outputs": [
    {
     "data": {
      "image/png": "[encoded data removed]",
      "text/plain": [
       "<Figure size 720x576 with 1 Axes>"
      ]
     },
     "metadata": {
      "needs_background": "light"
     },
     "output_type": "display_data"
    }
   ],
   "source": [
    "fig, ax = plt.subplots(1, 1, figsize=(10, 8))\n",
    "ax.grid()\n",
    "ax.set_title(\"IoU of GradCAM heatmaps with ground truth\", fontsize=22)\n",
    "\n",
    "# sns.barplot(data=df, x=\"dataset\", y=\"iou\", hue=\"model\", palette=\"Paired\")\n",
    "sns.barplot(data=df, x=\"dataset\", y=\"iou\", hue=\"model\", palette=[\"skyblue\", \"pink\"])\n",
    "\n",
    "\n",
    "ax.legend(bbox_to_anchor=(0.3, 0.9), fontsize=15, ncol=2)\n",
    "ax.tick_params(axis='both', which='major', labelsize=14)\n",
    "ax.set_xlabel(ax.get_xlabel().capitalize(), fontsize=18)\n",
    "ax.set_ylabel(ax.get_ylabel().upper(), fontsize=18)\n",
    "ax.set_ylim(0, 0.5)\n",
    "\n",
    "plt.savefig(join(REPO_PATH, \"experiments\", \"results\", \"quant_gradcam_iou.pdf\"), bbox_inches=\"tight\")\n",
    "plt.show()"
   ]
  },
  {
   "cell_type": "code",
   "execution_count": null,
   "id": "4ff24f47-42db-4b63-8c25-557c36ad53e2",
   "metadata": {},
   "outputs": [],
   "source": []
  },
  {
   "cell_type": "code",
   "execution_count": null,
   "id": "4b042ba3-d6df-4026-9e22-7c91f8a57343",
   "metadata": {},
   "outputs": [],
   "source": []
  },
  {
   "cell_type": "code",
   "execution_count": 28,
   "id": "f55ab54a-8f29-48dd-a6f2-49911fb5f5a6",
   "metadata": {},
   "outputs": [
    {
     "data": {
      "text/html": [
       "<div>\n",
       "<style scoped>\n",
       "    .dataframe tbody tr th:only-of-type {\n",
       "        vertical-align: middle;\n",
       "    }\n",
       "\n",
       "    .dataframe tbody tr th {\n",
       "        vertical-align: top;\n",
       "    }\n",
       "\n",
       "    .dataframe thead th {\n",
       "        text-align: right;\n",
       "    }\n",
       "</style>\n",
       "<table border=\"1\" class=\"dataframe\">\n",
       "  <thead>\n",
       "    <tr style=\"text-align: right;\">\n",
       "      <th></th>\n",
       "      <th>dataset</th>\n",
       "      <th>model</th>\n",
       "      <th>iou</th>\n",
       "    </tr>\n",
       "  </thead>\n",
       "  <tbody>\n",
       "    <tr>\n",
       "      <th>0</th>\n",
       "      <td>colored MNIST</td>\n",
       "      <td>Original</td>\n",
       "      <td>0.436745</td>\n",
       "    </tr>\n",
       "    <tr>\n",
       "      <th>1</th>\n",
       "      <td>colored MNIST</td>\n",
       "      <td>Counterfactual</td>\n",
       "      <td>0.454287</td>\n",
       "    </tr>\n",
       "    <tr>\n",
       "      <th>2</th>\n",
       "      <td>double colored MNIST</td>\n",
       "      <td>Original</td>\n",
       "      <td>0.373542</td>\n",
       "    </tr>\n",
       "    <tr>\n",
       "      <th>3</th>\n",
       "      <td>wildlife MNIST</td>\n",
       "      <td>Original</td>\n",
       "      <td>0.388386</td>\n",
       "    </tr>\n",
       "    <tr>\n",
       "      <th>4</th>\n",
       "      <td>wildlife MNIST</td>\n",
       "      <td>Counterfactual</td>\n",
       "      <td>0.441846</td>\n",
       "    </tr>\n",
       "    <tr>\n",
       "      <th>5</th>\n",
       "      <td>double colored MNIST</td>\n",
       "      <td>Counterfactual</td>\n",
       "      <td>0.426295</td>\n",
       "    </tr>\n",
       "  </tbody>\n",
       "</table>\n",
       "</div>"
      ],
      "text/plain": [
       "                dataset           model       iou\n",
       "0         colored MNIST        Original  0.436745\n",
       "1         colored MNIST  Counterfactual  0.454287\n",
       "2  double colored MNIST        Original  0.373542\n",
       "3        wildlife MNIST        Original  0.388386\n",
       "4        wildlife MNIST  Counterfactual  0.441846\n",
       "5  double colored MNIST  Counterfactual  0.426295"
      ]
     },
     "execution_count": 28,
     "metadata": {},
     "output_type": "execute_result"
    }
   ],
   "source": [
    "df.floordiv"
   ]
  },
  {
   "cell_type": "code",
   "execution_count": 21,
   "id": "a757b117-d27b-4a51-a57f-7d97ea6d07fc",
   "metadata": {},
   "outputs": [
    {
     "data": {
      "text/plain": [
       "['double',\n",
       " 'colored',\n",
       " 'MNIST',\n",
       " 'classifier',\n",
       " 'double',\n",
       " 'colored',\n",
       " 'MNIST',\n",
       " 'counterfactual',\n",
       " 'gradcam',\n",
       " 'iou']"
      ]
     },
     "execution_count": 21,
     "metadata": {},
     "output_type": "execute_result"
    }
   ],
   "source": [
    "elements"
   ]
  },
  {
   "cell_type": "code",
   "execution_count": 7,
   "id": "7990a391-3abe-4a1a-bbd7-df1634502dd3",
   "metadata": {},
   "outputs": [
    {
     "data": {
      "text/plain": [
       "['/home/lcur0478/anonymous/projects/fact-team3/experiments/results/colored_MNIST_classifier_colored_MNIST_gradcam_iou.pth',\n",
       " '/home/lcur0478/anonymous/projects/fact-team3/experiments/results/colored_MNIST_classifier_colored_MNIST_counterfactual_gradcam_iou.pth',\n",
       " '/home/lcur0478/anonymous/projects/fact-team3/experiments/results/double_colored_MNIST_classifier_double_colored_MNIST_gradcam_iou.pth',\n",
       " '/home/lcur0478/anonymous/projects/fact-team3/experiments/results/wildlife_MNIST_classifier_wildlife_MNIST_gradcam_iou.pth',\n",
       " '/home/lcur0478/anonymous/projects/fact-team3/experiments/results/wildlife_MNIST_classifier_wildlife_MNIST_counterfactual_gradcam_iou.pth',\n",
       " '/home/lcur0478/anonymous/projects/fact-team3/experiments/results/double_colored_MNIST_classifier_double_colored_MNIST_counterfactual_gradcam_iou.pth']"
      ]
     },
     "execution_count": 7,
     "metadata": {},
     "output_type": "execute_result"
    }
   ],
   "source": [
    "outputs"
   ]
  },
  {
   "cell_type": "code",
   "execution_count": 11,
   "id": "bf4e0256-3bd5-461e-b860-9323a1065dd3",
   "metadata": {},
   "outputs": [
    {
     "data": {
      "text/plain": [
       "{0: 0.4283553815393227,\n",
       " 1: 0.4101100720857319,\n",
       " 2: 0.4050119727548927,\n",
       " 3: 0.4184620385031098,\n",
       " 4: 0.4597989428686101,\n",
       " 5: 0.4167461124274249,\n",
       " 6: 0.42546644871582534,\n",
       " 7: 0.45312852772004014,\n",
       " 8: 0.42572650588066774,\n",
       " 9: 0.4182301341681029,\n",
       " 'overall': 0.4262953}"
      ]
     },
     "execution_count": 11,
     "metadata": {},
     "output_type": "execute_result"
    }
   ],
   "source": [
    "output"
   ]
  },
  {
   "cell_type": "code",
   "execution_count": null,
   "id": "908aaea0-5035-4346-8a92-2dd37de5e9a4",
   "metadata": {},
   "outputs": [],
   "source": []
  }
 ],
 "metadata": {
  "kernelspec": {
   "display_name": "Python 3 (ipykernel)",
   "language": "python",
   "name": "python3"
  },
  "language_info": {
   "codemirror_mode": {
    "name": "ipython",
    "version": 3
   },
   "file_extension": ".py",
   "mimetype": "text/x-python",
   "name": "python",
   "nbconvert_exporter": "python",
   "pygments_lexer": "ipython3",
   "version": "3.9.7"
  }
 },
 "nbformat": 4,
 "nbformat_minor": 5
}
