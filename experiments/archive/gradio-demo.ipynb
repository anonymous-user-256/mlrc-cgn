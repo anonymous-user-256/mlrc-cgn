{
 "cells": [
  {
   "cell_type": "code",
   "execution_count": 1,
   "id": "dd444753-3979-4f74-96d8-3c99120ec6f3",
   "metadata": {},
   "outputs": [],
   "source": [
    "%matplotlib inline"
   ]
  },
  {
   "cell_type": "code",
   "execution_count": 2,
   "id": "0a8cffba-01f2-4786-b4fe-fec11c5d5d0c",
   "metadata": {},
   "outputs": [],
   "source": [
    "from gradio_demo import init_gradio_module"
   ]
  },
  {
   "cell_type": "code",
   "execution_count": 3,
   "id": "4fda36d4-2a4d-4ea6-bb6e-ddab0dfab0d4",
   "metadata": {},
   "outputs": [
    {
     "name": "stdout",
     "output_type": "stream",
     "text": [
      "Loading model ...\n",
      "Loading data ...\n",
      "Loading CGN model ...\n",
      "Defining gradcam module ...\n",
      "Running on local URL:  http://127.0.0.1:7860/\n",
      "Running on public URL: https://47827.gradio.app\n",
      "\n",
      "This share link expires in 72 hours. For free permanent hosting, check out Spaces (https://huggingface.co/spaces)\n"
     ]
    },
    {
     "data": {
      "text/html": [
       "\n",
       "        <iframe\n",
       "            width=\"900\"\n",
       "            height=\"500\"\n",
       "            src=\"https://47827.gradio.app\"\n",
       "            frameborder=\"0\"\n",
       "            allowfullscreen\n",
       "            \n",
       "        ></iframe>\n",
       "        "
      ],
      "text/plain": [
       "<IPython.lib.display.IFrame at 0x150573bc7dc0>"
      ]
     },
     "metadata": {},
     "output_type": "display_data"
    }
   ],
   "source": [
    "cgn_gradio = init_gradio_module(launch=True, share=True)"
   ]
  },
  {
   "cell_type": "code",
   "execution_count": null,
   "id": "4c9cb900-8180-4697-a0e5-bbd6afbe6e20",
   "metadata": {},
   "outputs": [],
   "source": []
  }
 ],
 "metadata": {
  "kernelspec": {
   "display_name": "Python 3",
   "language": "python",
   "name": "python3"
  },
  "language_info": {
   "codemirror_mode": {
    "name": "ipython",
    "version": 3
   },
   "file_extension": ".py",
   "mimetype": "text/x-python",
   "name": "python",
   "nbconvert_exporter": "python",
   "pygments_lexer": "ipython3",
   "version": "3.9.7"
  }
 },
 "nbformat": 4,
 "nbformat_minor": 5
}
