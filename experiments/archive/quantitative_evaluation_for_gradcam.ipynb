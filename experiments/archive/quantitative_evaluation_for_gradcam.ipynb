{
 "cells": [
  {
   "cell_type": "code",
   "execution_count": 1,
   "id": "33808bd1-53ec-4cfc-a252-f1decae3760b",
   "metadata": {},
   "outputs": [],
   "source": [
    "%load_ext autoreload\n",
    "%autoreload 2"
   ]
  },
  {
   "cell_type": "code",
   "execution_count": 22,
   "id": "3624e9ce-cb7c-4c27-9271-11b59b9e5714",
   "metadata": {},
   "outputs": [],
   "source": [
    "import os\n",
    "import sys\n",
    "import argparse\n",
    "import numpy as np\n",
    "import pandas as pd\n",
    "import torch\n",
    "from torchvision import transforms\n",
    "import torchvision.datasets as tv_datasets\n",
    "from torchvision import transforms as tv_transforms\n",
    "from torchvision.utils import save_image, make_grid\n",
    "from PIL import Image\n",
    "from tqdm import tqdm\n",
    "from gradcam.utils import visualize_cam\n",
    "from gradcam import GradCAM, GradCAMpp\n",
    "import matplotlib.pyplot as plt\n",
    "import seaborn as sns\n",
    "from torchmetrics import JaccardIndex\n",
    "\n",
    "import warnings\n",
    "warnings.filterwarnings(\"ignore\")\n",
    "\n",
    "from experiment_utils import set_env, REPO_PATH, seed_everything\n",
    "set_env()\n",
    "\n",
    "from cgn_framework.mnists.models.classifier import CNN\n",
    "from cgn_framework.mnists.train_cgn import save\n",
    "from cgn_framework.mnists.dataloader import get_tensor_dataloaders, TENSOR_DATASETS"
   ]
  },
  {
   "cell_type": "code",
   "execution_count": 3,
   "id": "487eb5d2-2be2-4569-baea-49c5f4a6f3f3",
   "metadata": {},
   "outputs": [],
   "source": [
    "plt.rcParams.update({\n",
    "    \"text.usetex\": True,\n",
    "    \"font.family\": \"serif\",\n",
    "    \"font.serif\": [\"Computer Modern Roman\"],\n",
    "})"
   ]
  },
  {
   "cell_type": "markdown",
   "id": "c12d64fa-5df3-4831-8046-4960b7ffe47c",
   "metadata": {},
   "source": [
    "### Set environment"
   ]
  },
  {
   "cell_type": "code",
   "execution_count": 4,
   "id": "fba60291-f0e5-4e0f-a1ca-939413f6dc14",
   "metadata": {},
   "outputs": [],
   "source": [
    "seed_everything(0)\n",
    "\n",
    "device = torch.device('cuda' if torch.cuda.is_available() else 'cpu')"
   ]
  },
  {
   "cell_type": "markdown",
   "id": "f21efab6-5517-4c93-8764-887e408cec2b",
   "metadata": {},
   "source": [
    "### Load model"
   ]
  },
  {
   "cell_type": "code",
   "execution_count": 5,
   "id": "394a97e5-8f60-46d8-b86a-ad026ebdde6f",
   "metadata": {},
   "outputs": [
    {
     "name": "stdout",
     "output_type": "stream",
     "text": [
      "Loading model weights from checkpoint: mnists/experiments/classifier_colored_MNIST/weights/ckp_epoch_10.pth\n"
     ]
    }
   ],
   "source": [
    "# load model and its weights from a checkpoint\n",
    "model = CNN()\n",
    "\n",
    "# load checkpoint\n",
    "weight_path = \"mnists/experiments/classifier_colored_MNIST/weights/ckp_epoch_10.pth\"\n",
    "print(\"Loading model weights from checkpoint: {}\".format(weight_path))\n",
    "ckpt = torch.load(os.path.join(REPO_PATH, \"cgn_framework\", weight_path), map_location='cpu')\n",
    "model.load_state_dict(ckpt)\n",
    "model = model.eval()\n",
    "model = model.to(device)"
   ]
  },
  {
   "cell_type": "markdown",
   "id": "c13c5cea-6780-49f9-b18d-7241d1951f2d",
   "metadata": {},
   "source": [
    "### Load dataset"
   ]
  },
  {
   "cell_type": "code",
   "execution_count": 6,
   "id": "0375f04c-b065-4df2-a81b-c7a89d788cb8",
   "metadata": {},
   "outputs": [
    {
     "name": "stdout",
     "output_type": "stream",
     "text": [
      "Loading dataset: colored_MNIST\n"
     ]
    }
   ],
   "source": [
    "# load the test dataloader to evaluate GradCAM on\n",
    "dataset = \"colored_MNIST\"\n",
    "print(\"Loading dataset: {}\".format(dataset))\n",
    "dl_train, dl_test = get_tensor_dataloaders(dataset, 64)"
   ]
  },
  {
   "cell_type": "code",
   "execution_count": 7,
   "id": "ce92d5f3-6657-43e3-b8ec-0dc39485da2b",
   "metadata": {},
   "outputs": [],
   "source": [
    "ds_test = dl_test.dataset"
   ]
  },
  {
   "cell_type": "code",
   "execution_count": 8,
   "id": "aee3f025-7695-49bd-b0a3-14b98e78f327",
   "metadata": {},
   "outputs": [
    {
     "data": {
      "text/plain": [
       "10000"
      ]
     },
     "execution_count": 8,
     "metadata": {},
     "output_type": "execute_result"
    }
   ],
   "source": [
    "len(ds_test)"
   ]
  },
  {
   "cell_type": "code",
   "execution_count": 9,
   "id": "5bc22e4b-8d05-40c4-a953-f3f7afcd8126",
   "metadata": {},
   "outputs": [],
   "source": [
    "# load original MNIST to obtain binary maps\n",
    "\n",
    "T = tv_transforms.Compose([\n",
    "    # tv_transforms.ToPILImage(),\n",
    "    tv_transforms.Resize((32, 32), Image.NEAREST),\n",
    "    tv_transforms.ToTensor(),\n",
    "    # tv_transforms.Normalize(\n",
    "    #     (0.5, 0.5, 0.5),\n",
    "    #     (0.5, 0.5, 0.5),\n",
    "    # ),\n",
    "])\n",
    "\n",
    "original = tv_datasets.MNIST(root=\"./mnists/data/MNIST/\", download=True, train=False, transform=T)"
   ]
  },
  {
   "cell_type": "code",
   "execution_count": 10,
   "id": "22e8181e-8d84-4b25-9a17-856c035c5bf2",
   "metadata": {},
   "outputs": [
    {
     "data": {
      "text/plain": [
       "(torch.Size([1, 32, 32]), tensor(0.), tensor(1.))"
      ]
     },
     "execution_count": 10,
     "metadata": {},
     "output_type": "execute_result"
    }
   ],
   "source": [
    "original[0][0].shape, original[0][0].min(), original[0][0].max()"
   ]
  },
  {
   "cell_type": "markdown",
   "id": "65d85ed1-bc2e-467e-a7a4-7576dd4e9f4f",
   "metadata": {},
   "source": [
    "### Compare colored MNIST with original MNIST (for indexing)"
   ]
  },
  {
   "cell_type": "code",
   "execution_count": 11,
   "id": "ede12ae5-b101-4c71-88c8-69a1685d9a30",
   "metadata": {},
   "outputs": [],
   "source": [
    "def denormalize(x, mean=[0.5, 0.5]):\n",
    "    \"\"\"Performs denormalization on image.\"\"\"\n",
    "    inv_normalize = transforms.Normalize(\n",
    "        mean=[-1.0, -1.0, -1.0],\n",
    "        std=[2.0, 2.0, 2.0]\n",
    "    )\n",
    "    return inv_normalize(x)"
   ]
  },
  {
   "cell_type": "code",
   "execution_count": 12,
   "id": "fe313446-c175-40bc-9d24-4165b6efe8d8",
   "metadata": {},
   "outputs": [
    {
     "name": "stderr",
     "output_type": "stream",
     "text": [
      "colored_MNIST: 100%|█████████████████████████████████████████████████████████████████████████████████| 16/16 [00:00<00:00, 4503.65it/s]\n",
      "Original: 100%|██████████████████████████████████████████████████████████████████████████████████████| 16/16 [00:00<00:00, 4406.07it/s]\n"
     ]
    }
   ],
   "source": [
    "indices = np.random.choice(range(len(ds_test)), 16, replace=False)\n",
    "\n",
    "ds_sample_images = [denormalize(ds_test[i][0]).permute((1, 2, 0)) for i in tqdm(indices, desc=dataset)]\n",
    "ds_sample_labels = [ds_test[i][1] for i in indices]\n",
    "\n",
    "og_sample_images = [original[i][0].permute((1, 2, 0)) for i in tqdm(indices, desc=\"Original\")]\n",
    "og_sample_labels = [original[i][1] for i in indices]"
   ]
  },
  {
   "cell_type": "code",
   "execution_count": 13,
   "id": "b80bacbb-fe20-41eb-a974-9c56e9caf3c7",
   "metadata": {},
   "outputs": [
    {
     "data": {
      "image/png": "[encoded data removed]",
      "text/plain": [
       "<Figure size 1440x216 with 2 Axes>"
      ]
     },
     "metadata": {},
     "output_type": "display_data"
    }
   ],
   "source": [
    "fig, ax = plt.subplots(2, 1, figsize=(20, 3), constrained_layout=True)\n",
    "\n",
    "grid_img = make_grid(torch.stack(ds_sample_images, dim=0).permute((0, 3, 1, 2)), nrow=len(indices))\n",
    "ax[0].imshow(grid_img.permute((1, 2, 0)))\n",
    "ax[0].set_title(f\"{dataset.replace('_', ' ')} samples\")\n",
    "ax[0].set_xticks([])\n",
    "ax[0].set_yticks([])\n",
    "\n",
    "grid_img = make_grid(torch.stack(og_sample_images, dim=0).permute((0, 3, 1, 2)), nrow=len(indices))\n",
    "ax[1].imshow(grid_img.permute((1, 2, 0)))\n",
    "ax[1].set_title(f\"Original MNIST samples\")\n",
    "ax[1].set_xticks([])\n",
    "ax[1].set_yticks([])\n",
    "\n",
    "plt.show()"
   ]
  },
  {
   "cell_type": "markdown",
   "id": "0a6c6e3a-d163-4a62-a1af-805a43de94e9",
   "metadata": {},
   "source": [
    "### Test quantitative metric on a single sample"
   ]
  },
  {
   "cell_type": "code",
   "execution_count": 14,
   "id": "586f41c7-d02e-4bfb-90dc-c1458701591d",
   "metadata": {},
   "outputs": [],
   "source": [
    "# define the target layer to be used\n",
    "target_layer = model.model[8]\n",
    "gradcam = GradCAM(model, target_layer)\n",
    "\n",
    "# for metric computation\n",
    "jaccard = JaccardIndex(num_classes=2)"
   ]
  },
  {
   "cell_type": "code",
   "execution_count": 15,
   "id": "e07fa732-004a-4fb4-a6e6-3c7ffb0b0492",
   "metadata": {},
   "outputs": [],
   "source": [
    "sample_idx = 100\n",
    "\n",
    "# get image\n",
    "image = ds_test[sample_idx][0]\n",
    "\n",
    "# get gradcam mask\n",
    "gc_mask, _ = gradcam(image.unsqueeze(0))\n",
    "heatmap, result = visualize_cam(gc_mask, image)\n",
    "gc_mask = gc_mask.squeeze(0)\n",
    "\n",
    "# get coresponding GT mask from original dataset\n",
    "gt_mask = original[sample_idx][0]\n",
    "gt_mask_binary = gt_mask > 0.5"
   ]
  },
  {
   "cell_type": "code",
   "execution_count": 16,
   "id": "7804dae0-8fff-4e34-b35b-be65d1947ca2",
   "metadata": {},
   "outputs": [
    {
     "data": {
      "text/plain": [
       "(torch.Size([1, 32, 32]), torch.Size([1, 32, 32]))"
      ]
     },
     "execution_count": 16,
     "metadata": {},
     "output_type": "execute_result"
    }
   ],
   "source": [
    "gt_mask.shape, gc_mask.shape"
   ]
  },
  {
   "cell_type": "code",
   "execution_count": 17,
   "id": "957d4952-b2b0-470d-980a-0950c7444a9a",
   "metadata": {},
   "outputs": [],
   "source": [
    "iou = jaccard(gc_mask, gt_mask_binary)"
   ]
  },
  {
   "cell_type": "code",
   "execution_count": 18,
   "id": "13bce55b-2f67-4b2a-9eea-f33cdd0f7cbc",
   "metadata": {},
   "outputs": [
    {
     "data": {
      "image/png": "[encoded data removed]",
      "text/plain": [
       "<Figure size 432x288 with 1 Axes>"
      ]
     },
     "metadata": {
      "needs_background": "light"
     },
     "output_type": "display_data"
    }
   ],
   "source": [
    "grid = make_grid([gt_mask, gc_mask], padding=0)\n",
    "\n",
    "plt.title(f\"IoU: {iou:.4f}\", fontsize=18)\n",
    "plt.imshow(grid.permute((1, 2, 0)))\n",
    "plt.show()"
   ]
  },
  {
   "cell_type": "markdown",
   "id": "0c43fb69-414a-4375-8691-a598d44b7c38",
   "metadata": {},
   "source": [
    "### Looping over dataset"
   ]
  },
  {
   "cell_type": "code",
   "execution_count": 19,
   "id": "142ce3e2-6ea1-4d91-9127-744565db0501",
   "metadata": {},
   "outputs": [],
   "source": [
    "# define the target layer to be used\n",
    "target_layer = model.model[8]\n",
    "gradcam = GradCAM(model, target_layer)\n",
    "\n",
    "# for metric computation\n",
    "jaccard = JaccardIndex(num_classes=2)"
   ]
  },
  {
   "cell_type": "code",
   "execution_count": 20,
   "id": "2ed3c09e-6e6d-4f9c-8a56-cfbb648d1347",
   "metadata": {},
   "outputs": [
    {
     "name": "stderr",
     "output_type": "stream",
     "text": [
      "Computing GradCAM: 100%|\u001b[31m██████████\u001b[0m| 10000/10000 [07:11<00:00, 23.17it/s]\u001b[31m                                                               \u001b[0m\n"
     ]
    }
   ],
   "source": [
    "iterator = tqdm(range(len(ds_test)), colour=\"red\", bar_format='{l_bar}{bar:10}{r_bar}{bar:-10b}', desc=\"Computing GradCAM\")\n",
    "iou_values = []\n",
    "labels = []\n",
    "\n",
    "show = False\n",
    "\n",
    "for i in iterator:\n",
    "\n",
    "    # get image\n",
    "    image, label = ds_test[i]\n",
    "\n",
    "    # get gradcam mask\n",
    "    gc_mask, _ = gradcam(image.unsqueeze(0))\n",
    "    heatmap, result = visualize_cam(gc_mask, image)\n",
    "    gc_mask = gc_mask.squeeze(0)\n",
    "\n",
    "    # get coresponding GT mask from original dataset\n",
    "    gt_mask = original[i][0]\n",
    "    gt_mask_binary = gt_mask > 0.5\n",
    "\n",
    "    iou = jaccard(gc_mask, gt_mask_binary)\n",
    "    iou_values.append(iou)\n",
    "    labels.append(label)\n",
    "    \n",
    "    if show:\n",
    "        grid = make_grid([gt_mask, gc_mask], padding=0)\n",
    "        plt.title(f\"IoU: {iou:.4f}\", fontsize=18)\n",
    "        plt.imshow(grid.permute((1, 2, 0)))\n",
    "        plt.show()"
   ]
  },
  {
   "cell_type": "code",
   "execution_count": 28,
   "id": "3f6a09ec-bfbe-41da-a4da-73c26bf402c3",
   "metadata": {},
   "outputs": [],
   "source": [
    "df = pd.DataFrame(None, columns=[\"iou\", \"label\"])\n",
    "df[\"iou\"] = iou_values\n",
    "df[\"label\"] = torch.stack(labels).numpy()"
   ]
  },
  {
   "cell_type": "code",
   "execution_count": 32,
   "id": "27989c36-a64e-479e-9df3-e2683d3c2706",
   "metadata": {},
   "outputs": [
    {
     "data": {
      "text/plain": [
       "({0: 0.43806566510881695,\n",
       "  1: 0.42117731707736783,\n",
       "  2: 0.4524344806523286,\n",
       "  3: 0.44586656022780013,\n",
       "  4: 0.4213300654455989,\n",
       "  5: 0.43183012821214617,\n",
       "  6: 0.4619055889344663,\n",
       "  7: 0.43468312066816633,\n",
       "  8: 0.42896266052120763,\n",
       "  9: 0.43286967584706393},\n",
       " 0.436745068359375)"
      ]
     },
     "execution_count": 32,
     "metadata": {},
     "output_type": "execute_result"
    }
   ],
   "source": [
    "dict(df.groupby(\"label\")[\"iou\"].mean()), df[\"iou\"].mean()"
   ]
  },
  {
   "cell_type": "code",
   "execution_count": null,
   "id": "a4ccdcf4-067f-4094-b983-1a875746095c",
   "metadata": {},
   "outputs": [],
   "source": []
  }
 ],
 "metadata": {
  "kernelspec": {
   "display_name": "Python 3 (ipykernel)",
   "language": "python",
   "name": "python3"
  },
  "language_info": {
   "codemirror_mode": {
    "name": "ipython",
    "version": 3
   },
   "file_extension": ".py",
   "mimetype": "text/x-python",
   "name": "python",
   "nbconvert_exporter": "python",
   "pygments_lexer": "ipython3",
   "version": "3.9.7"
  }
 },
 "nbformat": 4,
 "nbformat_minor": 5
}
